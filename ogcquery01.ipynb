{
 "cells": [
  {
   "cell_type": "code",
   "execution_count": 7,
   "metadata": {},
   "outputs": [
    {
     "data": {
      "text/plain": [
       "{'World_Imagery': <owslib.wmts.ContentMetadata at 0x22ca147a140>}"
      ]
     },
     "execution_count": 7,
     "metadata": {},
     "output_type": "execute_result"
    }
   ],
   "source": [
    "from owslib.wms import WebMapService\n",
    "from owslib.wmts import WebMapTileService\n",
    "#url= 'https://services.arcgisonline.com/arcgis/rest/services/Ocean/World_Ocean_Reference/MapServer/WMTS'\n",
    "url = 'https://server.arcgisonline.com/arcgis/rest/services/World_Imagery/MapServer/WMTS'\n",
    "service='wmts'\n",
    "ogcservices = {'wms': WebMapService, 'wmts': WebMapTileService}\n",
    "layx = ogcservices[service](url)\n",
    "layx.contents"
   ]
  },
  {
   "cell_type": "code",
   "execution_count": 17,
   "metadata": {},
   "outputs": [
    {
     "name": "stdout",
     "output_type": "stream",
     "text": [
      "OGC WMTS 1.0.0 World_Imagery None []\n",
      "{'World_Imagery': <owslib.wmts.ContentMetadata object at 0x0000022CA147A140>}\n"
     ]
    },
    {
     "ename": "AttributeError",
     "evalue": "'dict' object has no attribute 'getTileMatrixSetLinks'",
     "output_type": "error",
     "traceback": [
      "\u001b[1;31m---------------------------------------------------------------------------\u001b[0m",
      "\u001b[1;31mAttributeError\u001b[0m                            Traceback (most recent call last)",
      "Cell \u001b[1;32mIn[17], line 4\u001b[0m\n\u001b[0;32m      2\u001b[0m layer \u001b[39m=\u001b[39mlayx\u001b[39m.\u001b[39mcontents\n\u001b[0;32m      3\u001b[0m \u001b[39mprint\u001b[39m(layer)\n\u001b[1;32m----> 4\u001b[0m tile_matrix_set_links \u001b[39m=\u001b[39m layer\u001b[39m.\u001b[39;49mgetTileMatrixSetLinks()\n\u001b[0;32m      5\u001b[0m \u001b[39mprint\u001b[39m(tile_matrix_set_links)\n\u001b[0;32m      6\u001b[0m \u001b[39mfor\u001b[39;00m link \u001b[39min\u001b[39;00m tile_matrix_set_links:\n",
      "\u001b[1;31mAttributeError\u001b[0m: 'dict' object has no attribute 'getTileMatrixSetLinks'"
     ]
    }
   ],
   "source": [
    "print(layx.identification.type, layx.identification.version, layx.identification.title, layx.identification.abstract, layx.identification.keywords)\n",
    "layer =layx.contents\n",
    "print(layer)\n",
    "#tile_matrix_set_links = layer.getTileMatrixSetLinks()\n",
    "#print(tile_matrix_set_links)\n",
    "#for link in tile_matrix_set_links:\n",
    "#    print(link.tilematrixset)"
   ]
  },
  {
   "cell_type": "code",
   "execution_count": 12,
   "metadata": {},
   "outputs": [
    {
     "ename": "AttributeError",
     "evalue": "'WebMapTileService' object has no attribute 'getmap'",
     "output_type": "error",
     "traceback": [
      "\u001b[1;31m---------------------------------------------------------------------------\u001b[0m",
      "\u001b[1;31mAttributeError\u001b[0m                            Traceback (most recent call last)",
      "Cell \u001b[1;32mIn[12], line 11\u001b[0m\n\u001b[0;32m      9\u001b[0m \u001b[39mimport\u001b[39;00m \u001b[39mio\u001b[39;00m\n\u001b[0;32m     10\u001b[0m \u001b[39mfrom\u001b[39;00m \u001b[39mPIL\u001b[39;00m \u001b[39mimport\u001b[39;00m Image\n\u001b[1;32m---> 11\u001b[0m mapx \u001b[39m=\u001b[39m layx\u001b[39m.\u001b[39;49mgetmap(layx\u001b[39m.\u001b[39mcontents[\u001b[39m0\u001b[39m], srs\u001b[39m=\u001b[39m\u001b[39m'\u001b[39m\u001b[39mEPSG:4326\u001b[39m\u001b[39m'\u001b[39m, \n\u001b[0;32m     12\u001b[0m                    bbox\u001b[39m=\u001b[39mlayx\u001b[39m.\u001b[39mcontents[\u001b[39m0\u001b[39m]\u001b[39m.\u001b[39mboundingBox, size\u001b[39m=\u001b[39m(\u001b[39m1024\u001b[39m, \u001b[39m1024\u001b[39m), \u001b[39mformat\u001b[39m\u001b[39m=\u001b[39m\u001b[39m'\u001b[39m\u001b[39mimage/png\u001b[39m\u001b[39m'\u001b[39m, transparent\u001b[39m=\u001b[39m\u001b[39mTrue\u001b[39;00m)\n\u001b[0;32m     13\u001b[0m image \u001b[39m=\u001b[39m Image\u001b[39m.\u001b[39mopen(io\u001b[39m.\u001b[39mBytesIO(image\u001b[39m.\u001b[39mread()))                   \n",
      "\u001b[1;31mAttributeError\u001b[0m: 'WebMapTileService' object has no attribute 'getmap'"
     ]
    }
   ],
   "source": [
    "#from owslib.map.common import WMSCapabilitiesReader\n",
    "# https://github.com/geopython/OWSLib/blob/87e0bf83d60fbbc22903cb2056c198fb34ddc58b/owslib/map/wms130.py#L70\n",
    "#layx.getcapabilities().read()\n",
    "# old version? https://github.com/geopython/OWSLib/blob/master/tests/doctests/wms_GeoServerCapabilities.txt\n",
    "#json.loads(layx.getcapabilities().read().decode('utf-8')) not work\n",
    "# other examples\n",
    "# https://svn.oss.deltares.nl/repos/openearthtools/trunk/python/applications/AST/ast_python/web_map.py\n",
    "# https://notebook.community/openearth/notebooks/ahn2\n",
    "import io\n",
    "from PIL import Image\n",
    "#mapx = layx.getmap(layx.contents[0], srs='EPSG:4326', \n",
    "#                   bbox=layx.contents[0].boundingBox, size=(1024, 1024), format='image/png', transparent=True)\n",
    "#image = Image.open(io.BytesIO(image.read()))                   "
   ]
  }
 ],
 "metadata": {
  "kernelspec": {
   "display_name": "Python 3.10.2 64-bit",
   "language": "python",
   "name": "python3"
  },
  "language_info": {
   "codemirror_mode": {
    "name": "ipython",
    "version": 3
   },
   "file_extension": ".py",
   "mimetype": "text/x-python",
   "name": "python",
   "nbconvert_exporter": "python",
   "pygments_lexer": "ipython3",
   "version": "3.10.2"
  },
  "orig_nbformat": 4,
  "vscode": {
   "interpreter": {
    "hash": "301a17a29b57d3836b7901af1621afd6d2b1f2298b9c7949191147cf2fea93e3"
   }
  }
 },
 "nbformat": 4,
 "nbformat_minor": 2
}
